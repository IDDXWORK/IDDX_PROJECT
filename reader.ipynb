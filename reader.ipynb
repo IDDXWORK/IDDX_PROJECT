{
 "cells": [
  {
   "cell_type": "code",
   "execution_count": 2,
   "id": "e120a0a1",
   "metadata": {},
   "outputs": [],
   "source": [
    "#IMPORTS\n",
    "import cv2\n"
   ]
  },
  {
   "cell_type": "code",
   "execution_count": 57,
   "id": "bb15e56e",
   "metadata": {},
   "outputs": [],
   "source": [
    "import json\n",
    "\n",
    "try:\n",
    "    with open('iddx_annotations.json', 'r') as f:\n",
    "        data = json.load(f) \n",
    "\n",
    "except FileNotFoundError:\n",
    "    print(\"Error: The file was not found.\")\n",
    "except json.JSONDecodeError:\n",
    "    print(\"Error: Could not decode JSON from the file(syntax error)\")"
   ]
  },
  {
   "cell_type": "code",
   "execution_count": 58,
   "id": "4b139ed7",
   "metadata": {},
   "outputs": [
    {
     "data": {
      "text/plain": [
       "22"
      ]
     },
     "execution_count": 58,
     "metadata": {},
     "output_type": "execute_result"
    }
   ],
   "source": [
    "# data[0] #we only have data till 23 right now\n",
    "# data[0]['IOs'][0]['IO_track_and_frameno']\n",
    "# print(len(data[0]))\n",
    "# # for i in range(7):\n",
    "# print(data[0])\n",
    "\n",
    "data[0]['start_frame']"
   ]
  },
  {
   "cell_type": "code",
   "execution_count": 59,
   "id": "5889234d",
   "metadata": {},
   "outputs": [
    {
     "data": {
      "text/plain": [
       "'20210812144231_0060_combined.mp4'"
      ]
     },
     "execution_count": 59,
     "metadata": {},
     "output_type": "execute_result"
    }
   ],
   "source": [
    "data[0]['video_name']"
   ]
  },
  {
   "cell_type": "code",
   "execution_count": 60,
   "id": "37493d7f",
   "metadata": {},
   "outputs": [
    {
     "name": "stdout",
     "output_type": "stream",
     "text": [
      "1065\n",
      "VIDEO: 20210812144231_0060_combined.mp4 occurs: 1\n"
     ]
    }
   ],
   "source": [
    "#this is to check how many videos some video name has, so a video name occurs how many times is what this is to see\n",
    "def how_many_videos_with_the_same_name(video_check):\n",
    "\tvideos={}\n",
    "\n",
    "\tfor i in range(len(data)):\n",
    "\t\tif data[i]['video_name'] in videos:\n",
    "\t\t\tvideos[data[i]['video_name']]+=1\n",
    "\t\telse:\n",
    "\t\t\tvideos[data[i]['video_name']]=1\n",
    "\t\t\t\n",
    "\t\t# print(data[i]['video_name'])\n",
    "\t\t# videos.add(data[i]['video_name'])\n",
    "\tprint(len(videos))\n",
    "\tprint(\"VIDEO:\",video_check,\"occurs:\",videos[video_check])\n",
    "\n",
    "\t# for video in videos:\n",
    "\t# \tprint(video)\n",
    "how_many_videos_with_the_same_name('20210812144231_0060_combined.mp4')"
   ]
  },
  {
   "cell_type": "code",
   "execution_count": 61,
   "id": "888be117",
   "metadata": {},
   "outputs": [
    {
     "data": {
      "text/plain": [
       "22"
      ]
     },
     "execution_count": 61,
     "metadata": {},
     "output_type": "execute_result"
    }
   ],
   "source": [
    "data[0]['start_frame']"
   ]
  },
  {
   "cell_type": "code",
   "execution_count": 62,
   "id": "29a92db0",
   "metadata": {},
   "outputs": [
    {
     "name": "stdout",
     "output_type": "stream",
     "text": [
      "0\n",
      "3\n"
     ]
    }
   ],
   "source": [
    "#method to take some videos data and conv into a map and place the bboxes per frame (need to remember to place the IO ID TOGETHER AS WELL SO I CAN SEARCH FOR CATEGORY)\n",
    "data_map={}\n",
    "data_length=len(data[0]['IOs'])\n",
    "for i in range(data_length):\n",
    "    for arr in data[0]['IOs'][i]['IO_track_and_frameno']:\n",
    "        if arr[4] in data_map:\n",
    "            data_map[arr[4]]+=[{'array':arr[:4],'IO_id':data[0]['IOs'][i]['IO_id']}]\n",
    "        else:\n",
    "            data_map[arr[4]]= [{'array':arr[:4],'IO_id':data[0]['IOs'][i]['IO_id']}]\n",
    "\n",
    "\n",
    "# print(data_map[63])\n",
    "for frame in data_map[63]:\n",
    "    print(frame['IO_id'])\n",
    "    "
   ]
  },
  {
   "cell_type": "code",
   "execution_count": 65,
   "id": "9b000bef",
   "metadata": {},
   "outputs": [
    {
     "name": "stdout",
     "output_type": "stream",
     "text": [
      "started\n",
      "True\n",
      "frame:  22\n",
      "frame:  23\n",
      "frame:  24\n",
      "frame:  25\n",
      "frame:  26\n",
      "frame:  27\n",
      "frame:  28\n",
      "frame:  29\n",
      "frame:  30\n",
      "frame:  31\n",
      "frame:  32\n",
      "frame:  33\n",
      "frame:  34\n",
      "frame:  35\n",
      "frame:  36\n",
      "frame:  37\n",
      "frame:  38\n",
      "frame:  39\n",
      "frame:  40\n",
      "frame:  41\n",
      "frame:  42\n",
      "frame:  43\n",
      "frame:  44\n",
      "frame:  45\n",
      "frame:  46\n",
      "frame:  47\n",
      "frame:  48\n",
      "frame:  49\n",
      "frame:  50\n",
      "frame:  51\n",
      "frame:  52\n",
      "frame:  53\n",
      "frame:  54\n",
      "frame:  55\n",
      "frame:  56\n",
      "frame:  57\n",
      "frame:  58\n",
      "frame:  59\n",
      "frame:  60\n",
      "frame:  61\n",
      "frame:  62\n",
      "frame:  63\n",
      "frame:  64\n",
      "frame:  65\n",
      "frame:  66\n",
      "frame:  67\n",
      "frame:  68\n",
      "frame:  69\n",
      "frame:  70\n",
      "frame:  71\n",
      "frame:  72\n",
      "frame:  73\n",
      "frame:  74\n",
      "frame:  75\n",
      "frame:  76\n",
      "frame:  77\n",
      "frame:  78\n",
      "frame:  79\n",
      "frame:  80\n",
      "frame:  81\n",
      "frame:  82\n",
      "frame:  83\n",
      "frame:  84\n",
      "frame:  85\n",
      "frame:  86\n",
      "frame:  87\n",
      "frame:  88\n",
      "frame:  89\n",
      "frame:  90\n",
      "frame:  91\n",
      "frame:  92\n",
      "frame:  93\n",
      "frame:  94\n",
      "frame:  95\n",
      "frame:  96\n",
      "frame:  97\n",
      "frame:  98\n",
      "frame:  99\n",
      "frame:  100\n",
      "frame:  101\n",
      "frame:  102\n",
      "frame:  103\n",
      "frame:  104\n",
      "frame:  105\n",
      "frame:  106\n",
      "frame:  107\n",
      "frame:  108\n",
      "frame:  109\n",
      "frame:  110\n",
      "frame:  111\n",
      "frame:  112\n",
      "frame:  113\n",
      "frame:  114\n",
      "frame:  115\n",
      "frame:  116\n",
      "frame:  117\n",
      "frame:  118\n",
      "frame:  119\n",
      "frame:  120\n",
      "frame:  121\n",
      "frame:  122\n",
      "frame:  123\n",
      "frame:  124\n",
      "ending\n"
     ]
    }
   ],
   "source": [
    "video_path='sample_data\\\\20210812144231_0060_combined.mp4'\n",
    "start_frame=data[0]['start_frame']\n",
    "end_frame=data[0]['end_frame']\n",
    "cap=cv2.VideoCapture('sample_data\\\\20210812144231_0060_combined.mp4')\n",
    "cap.set(cv2.CAP_PROP_POS_FRAMES, start_frame)\n",
    "print('started')\n",
    "frame_number=start_frame\n",
    "print(cap.isOpened())\n",
    "\n",
    "while 1:\n",
    "    print(\"frame: \",frame_number)\n",
    "    ret,frame=cap.read()\n",
    "    if not ret:\n",
    "        break\n",
    "    color=(0,255,0)\n",
    "    thickness=2\n",
    "    #data_map[frame_number][0][0] defines the 0th index of the data[i][0] which is the array of bounding data\n",
    "\t#data[i][1] is the IO_number (unique identifier)\n",
    "    #this is data placed into a map for each frame number that exists for the video, \n",
    "\t# so that we can place the bboxes efficiently throughout the video without having to come back to a frame everytime\n",
    "    if frame_number in data_map:\n",
    "          for frame_data in data_map[frame_number]:\n",
    "                cv2.rectangle(frame, (frame_data['array'][0],frame_data['array'][1]), (frame_data['array'][2],frame_data['array'][3]), color, thickness)\n",
    "    marker=str(frame_number)\n",
    "    # cv2.imshow( 'frame',frame)\n",
    "    cv2.imshow(marker,frame)\n",
    "    if cv2.waitKey(0)==ord('w'):\n",
    "        frame_number+=1\n",
    "        cv2.destroyAllWindows()\n",
    "        continue\n",
    "    elif cv2.waitKey(0)==ord('q'):\n",
    "        print(\"ending\")\n",
    "        break\n",
    "\n",
    "cap.release()\n",
    "cv2.destroyAllWindows()"
   ]
  },
  {
   "cell_type": "code",
   "execution_count": null,
   "id": "ea71f4d2",
   "metadata": {},
   "outputs": [],
   "source": []
  }
 ],
 "metadata": {
  "kernelspec": {
   "display_name": "iddx_env",
   "language": "python",
   "name": "python3"
  },
  "language_info": {
   "codemirror_mode": {
    "name": "ipython",
    "version": 3
   },
   "file_extension": ".py",
   "mimetype": "text/x-python",
   "name": "python",
   "nbconvert_exporter": "python",
   "pygments_lexer": "ipython3",
   "version": "3.9.10"
  }
 },
 "nbformat": 4,
 "nbformat_minor": 5
}
